{
 "cells": [
  {
   "cell_type": "markdown",
   "metadata": {
    "collapsed": true
   },
   "source": [
    "# Uso de Dataset\n",
    "\n",
    "La clase dataset contiene toda la información e inteligencia de mercado\n",
    "\n",
    "## Carga de librerías"
   ]
  },
  {
   "cell_type": "code",
   "execution_count": 1,
   "metadata": {
    "ExecuteTime": {
     "end_time": "2023-10-11T20:47:32.032518300Z",
     "start_time": "2023-10-11T20:47:31.062682400Z"
    }
   },
   "outputs": [],
   "source": [
    "from finrisklib.market.fxrate import FxPair\n",
    "from finrisklib.data.dbreader import DBReader\n",
    "from finrisklib.enums import FinancialIndex\n",
    "from finrisklib.enums import Currency\n",
    "\n",
    "from datetime import date\n",
    "from IPython.display import display # Formateo"
   ]
  },
  {
   "cell_type": "markdown",
   "metadata": {},
   "source": [
    "## Carga de Dataset desde base de datos"
   ]
  },
  {
   "cell_type": "code",
   "execution_count": 2,
   "metadata": {
    "ExecuteTime": {
     "end_time": "2023-10-11T20:47:34.190351100Z",
     "start_time": "2023-10-11T20:47:32.032518300Z"
    }
   },
   "outputs": [],
   "source": [
    "market_date = date(year=2022, month=8, day=24)\n",
    "\n",
    "reader = DBReader()\n",
    "dataset = reader.get_dataset(process_date=market_date)"
   ]
  },
  {
   "cell_type": "markdown",
   "metadata": {},
   "source": [
    "## Funcionalidades Fx"
   ]
  },
  {
   "cell_type": "markdown",
   "metadata": {},
   "source": [
    "### a) Obtención de spot descontado"
   ]
  },
  {
   "cell_type": "code",
   "execution_count": 3,
   "metadata": {
    "ExecuteTime": {
     "end_time": "2023-10-11T20:47:34.605445700Z",
     "start_time": "2023-10-11T20:47:34.190351100Z"
    }
   },
   "outputs": [
    {
     "name": "stdout",
     "output_type": "stream",
     "text": [
      "916.8005004691394\n"
     ]
    }
   ],
   "source": [
    "fx = FxPair.generate('USDCLP')\n",
    "value = dataset.get_fx_rate(fx_pair=fx)\n",
    "\n",
    "print(value)"
   ]
  },
  {
   "cell_type": "markdown",
   "metadata": {},
   "source": [
    "### b) Obtención de spot no descontado"
   ]
  },
  {
   "cell_type": "code",
   "execution_count": 4,
   "metadata": {
    "ExecuteTime": {
     "end_time": "2023-10-11T20:47:34.605445700Z",
     "start_time": "2023-10-11T20:47:34.604101Z"
    }
   },
   "outputs": [
    {
     "name": "stdout",
     "output_type": "stream",
     "text": [
      "916.965\n"
     ]
    }
   ],
   "source": [
    "dataset.disable_discounted_spot()\n",
    "value = dataset.get_fx_rate(fx_pair=fx)\n",
    "\n",
    "print(value)\n",
    "dataset.enable_discounted_spot()"
   ]
  },
  {
   "cell_type": "markdown",
   "metadata": {},
   "source": [
    "### c) Obtención de tipo de cambio proyectado"
   ]
  },
  {
   "cell_type": "code",
   "execution_count": 5,
   "metadata": {
    "ExecuteTime": {
     "end_time": "2023-10-11T20:47:34.616465800Z",
     "start_time": "2023-10-11T20:47:34.605445700Z"
    }
   },
   "outputs": [
    {
     "name": "stdout",
     "output_type": "stream",
     "text": [
      "922.2345691064787\n"
     ]
    }
   ],
   "source": [
    "forward_date = date(year=2022, month=9, day=22)\n",
    "\n",
    "value = dataset.get_fx_forward_rate(fx_pair=fx, forward_date=forward_date)\n",
    "print(value)"
   ]
  },
  {
   "cell_type": "markdown",
   "metadata": {},
   "source": [
    "## Funcionalidades Curvas"
   ]
  },
  {
   "cell_type": "markdown",
   "metadata": {},
   "source": [
    "### a) Obtención de curva de acuerdo a colateral"
   ]
  },
  {
   "cell_type": "code",
   "execution_count": 6,
   "metadata": {
    "ExecuteTime": {
     "end_time": "2023-10-11T20:47:34.647747800Z",
     "start_time": "2023-10-11T20:47:34.616465800Z"
    }
   },
   "outputs": [
    {
     "data": {
      "text/html": [
       "<div>\n",
       "<style scoped>\n",
       "    .dataframe tbody tr th:only-of-type {\n",
       "        vertical-align: middle;\n",
       "    }\n",
       "\n",
       "    .dataframe tbody tr th {\n",
       "        vertical-align: top;\n",
       "    }\n",
       "\n",
       "    .dataframe thead th {\n",
       "        text-align: right;\n",
       "    }\n",
       "</style>\n",
       "<table border=\"1\" class=\"dataframe\">\n",
       "  <thead>\n",
       "    <tr style=\"text-align: right;\">\n",
       "      <th></th>\n",
       "      <th>Tenor</th>\n",
       "      <th>Rates</th>\n",
       "    </tr>\n",
       "  </thead>\n",
       "  <tbody>\n",
       "    <tr>\n",
       "      <th>0</th>\n",
       "      <td>1.0</td>\n",
       "      <td>0.091203</td>\n",
       "    </tr>\n",
       "    <tr>\n",
       "      <th>1</th>\n",
       "      <td>2.0</td>\n",
       "      <td>0.091226</td>\n",
       "    </tr>\n",
       "    <tr>\n",
       "      <th>2</th>\n",
       "      <td>96.0</td>\n",
       "      <td>0.109755</td>\n",
       "    </tr>\n",
       "    <tr>\n",
       "      <th>3</th>\n",
       "      <td>187.0</td>\n",
       "      <td>0.110720</td>\n",
       "    </tr>\n",
       "    <tr>\n",
       "      <th>4</th>\n",
       "      <td>275.0</td>\n",
       "      <td>0.105625</td>\n",
       "    </tr>\n",
       "    <tr>\n",
       "      <th>5</th>\n",
       "      <td>369.0</td>\n",
       "      <td>0.098712</td>\n",
       "    </tr>\n",
       "    <tr>\n",
       "      <th>6</th>\n",
       "      <td>551.0</td>\n",
       "      <td>0.088595</td>\n",
       "    </tr>\n",
       "    <tr>\n",
       "      <th>7</th>\n",
       "      <td>733.0</td>\n",
       "      <td>0.083693</td>\n",
       "    </tr>\n",
       "    <tr>\n",
       "      <th>8</th>\n",
       "      <td>1098.0</td>\n",
       "      <td>0.073127</td>\n",
       "    </tr>\n",
       "    <tr>\n",
       "      <th>9</th>\n",
       "      <td>1463.0</td>\n",
       "      <td>0.066843</td>\n",
       "    </tr>\n",
       "    <tr>\n",
       "      <th>10</th>\n",
       "      <td>1828.0</td>\n",
       "      <td>0.064083</td>\n",
       "    </tr>\n",
       "    <tr>\n",
       "      <th>11</th>\n",
       "      <td>2196.0</td>\n",
       "      <td>0.061675</td>\n",
       "    </tr>\n",
       "    <tr>\n",
       "      <th>12</th>\n",
       "      <td>2560.0</td>\n",
       "      <td>0.059306</td>\n",
       "    </tr>\n",
       "    <tr>\n",
       "      <th>13</th>\n",
       "      <td>2924.0</td>\n",
       "      <td>0.057613</td>\n",
       "    </tr>\n",
       "    <tr>\n",
       "      <th>14</th>\n",
       "      <td>3289.0</td>\n",
       "      <td>0.056305</td>\n",
       "    </tr>\n",
       "    <tr>\n",
       "      <th>15</th>\n",
       "      <td>3655.0</td>\n",
       "      <td>0.055658</td>\n",
       "    </tr>\n",
       "    <tr>\n",
       "      <th>16</th>\n",
       "      <td>4387.0</td>\n",
       "      <td>0.052918</td>\n",
       "    </tr>\n",
       "    <tr>\n",
       "      <th>17</th>\n",
       "      <td>5481.0</td>\n",
       "      <td>0.050245</td>\n",
       "    </tr>\n",
       "    <tr>\n",
       "      <th>18</th>\n",
       "      <td>7307.0</td>\n",
       "      <td>0.045263</td>\n",
       "    </tr>\n",
       "    <tr>\n",
       "      <th>19</th>\n",
       "      <td>10960.0</td>\n",
       "      <td>0.036617</td>\n",
       "    </tr>\n",
       "  </tbody>\n",
       "</table>\n",
       "</div>"
      ],
      "text/plain": [
       "      Tenor     Rates\n",
       "0       1.0  0.091203\n",
       "1       2.0  0.091226\n",
       "2      96.0  0.109755\n",
       "3     187.0  0.110720\n",
       "4     275.0  0.105625\n",
       "5     369.0  0.098712\n",
       "6     551.0  0.088595\n",
       "7     733.0  0.083693\n",
       "8    1098.0  0.073127\n",
       "9    1463.0  0.066843\n",
       "10   1828.0  0.064083\n",
       "11   2196.0  0.061675\n",
       "12   2560.0  0.059306\n",
       "13   2924.0  0.057613\n",
       "14   3289.0  0.056305\n",
       "15   3655.0  0.055658\n",
       "16   4387.0  0.052918\n",
       "17   5481.0  0.050245\n",
       "18   7307.0  0.045263\n",
       "19  10960.0  0.036617"
      ]
     },
     "metadata": {},
     "output_type": "display_data"
    }
   ],
   "source": [
    "currency = Currency.CLP\n",
    "collateral = Currency.USD\n",
    "\n",
    "curve = dataset.get_discount_curve(associated_currency=currency, associated_collateral=collateral)\n",
    "\n",
    "display(curve.rates_to_dataframe())"
   ]
  },
  {
   "cell_type": "code",
   "execution_count": 7,
   "metadata": {
    "ExecuteTime": {
     "end_time": "2023-10-11T20:47:34.647747800Z",
     "start_time": "2023-10-11T20:47:34.636097600Z"
    }
   },
   "outputs": [
    {
     "data": {
      "text/html": [
       "<div>\n",
       "<style scoped>\n",
       "    .dataframe tbody tr th:only-of-type {\n",
       "        vertical-align: middle;\n",
       "    }\n",
       "\n",
       "    .dataframe tbody tr th {\n",
       "        vertical-align: top;\n",
       "    }\n",
       "\n",
       "    .dataframe thead th {\n",
       "        text-align: right;\n",
       "    }\n",
       "</style>\n",
       "<table border=\"1\" class=\"dataframe\">\n",
       "  <thead>\n",
       "    <tr style=\"text-align: right;\">\n",
       "      <th></th>\n",
       "      <th>Tenor</th>\n",
       "      <th>Rates</th>\n",
       "    </tr>\n",
       "  </thead>\n",
       "  <tbody>\n",
       "    <tr>\n",
       "      <th>0</th>\n",
       "      <td>1.0</td>\n",
       "      <td>0.102367</td>\n",
       "    </tr>\n",
       "    <tr>\n",
       "      <th>1</th>\n",
       "      <td>2.0</td>\n",
       "      <td>0.102393</td>\n",
       "    </tr>\n",
       "    <tr>\n",
       "      <th>2</th>\n",
       "      <td>96.0</td>\n",
       "      <td>0.112523</td>\n",
       "    </tr>\n",
       "    <tr>\n",
       "      <th>3</th>\n",
       "      <td>187.0</td>\n",
       "      <td>0.114707</td>\n",
       "    </tr>\n",
       "    <tr>\n",
       "      <th>4</th>\n",
       "      <td>275.0</td>\n",
       "      <td>0.115283</td>\n",
       "    </tr>\n",
       "    <tr>\n",
       "      <th>5</th>\n",
       "      <td>369.0</td>\n",
       "      <td>0.113394</td>\n",
       "    </tr>\n",
       "    <tr>\n",
       "      <th>6</th>\n",
       "      <td>551.0</td>\n",
       "      <td>0.106755</td>\n",
       "    </tr>\n",
       "    <tr>\n",
       "      <th>7</th>\n",
       "      <td>733.0</td>\n",
       "      <td>0.101230</td>\n",
       "    </tr>\n",
       "    <tr>\n",
       "      <th>8</th>\n",
       "      <td>1098.0</td>\n",
       "      <td>0.088235</td>\n",
       "    </tr>\n",
       "    <tr>\n",
       "      <th>9</th>\n",
       "      <td>1463.0</td>\n",
       "      <td>0.080234</td>\n",
       "    </tr>\n",
       "    <tr>\n",
       "      <th>10</th>\n",
       "      <td>1828.0</td>\n",
       "      <td>0.075787</td>\n",
       "    </tr>\n",
       "    <tr>\n",
       "      <th>11</th>\n",
       "      <td>2196.0</td>\n",
       "      <td>0.073229</td>\n",
       "    </tr>\n",
       "    <tr>\n",
       "      <th>12</th>\n",
       "      <td>2560.0</td>\n",
       "      <td>0.070940</td>\n",
       "    </tr>\n",
       "    <tr>\n",
       "      <th>13</th>\n",
       "      <td>2924.0</td>\n",
       "      <td>0.068950</td>\n",
       "    </tr>\n",
       "    <tr>\n",
       "      <th>14</th>\n",
       "      <td>3289.0</td>\n",
       "      <td>0.067660</td>\n",
       "    </tr>\n",
       "    <tr>\n",
       "      <th>15</th>\n",
       "      <td>3655.0</td>\n",
       "      <td>0.067222</td>\n",
       "    </tr>\n",
       "    <tr>\n",
       "      <th>16</th>\n",
       "      <td>4387.0</td>\n",
       "      <td>0.067559</td>\n",
       "    </tr>\n",
       "    <tr>\n",
       "      <th>17</th>\n",
       "      <td>5481.0</td>\n",
       "      <td>0.067897</td>\n",
       "    </tr>\n",
       "    <tr>\n",
       "      <th>18</th>\n",
       "      <td>7307.0</td>\n",
       "      <td>0.068521</td>\n",
       "    </tr>\n",
       "    <tr>\n",
       "      <th>19</th>\n",
       "      <td>10960.0</td>\n",
       "      <td>0.071195</td>\n",
       "    </tr>\n",
       "  </tbody>\n",
       "</table>\n",
       "</div>"
      ],
      "text/plain": [
       "      Tenor     Rates\n",
       "0       1.0  0.102367\n",
       "1       2.0  0.102393\n",
       "2      96.0  0.112523\n",
       "3     187.0  0.114707\n",
       "4     275.0  0.115283\n",
       "5     369.0  0.113394\n",
       "6     551.0  0.106755\n",
       "7     733.0  0.101230\n",
       "8    1098.0  0.088235\n",
       "9    1463.0  0.080234\n",
       "10   1828.0  0.075787\n",
       "11   2196.0  0.073229\n",
       "12   2560.0  0.070940\n",
       "13   2924.0  0.068950\n",
       "14   3289.0  0.067660\n",
       "15   3655.0  0.067222\n",
       "16   4387.0  0.067559\n",
       "17   5481.0  0.067897\n",
       "18   7307.0  0.068521\n",
       "19  10960.0  0.071195"
      ]
     },
     "metadata": {},
     "output_type": "display_data"
    }
   ],
   "source": [
    "currency = Currency.CLP\n",
    "collateral = Currency.CLP\n",
    "\n",
    "curve = dataset.get_discount_curve(associated_currency=currency, associated_collateral=collateral)\n",
    "\n",
    "display(curve.rates_to_dataframe())"
   ]
  },
  {
   "cell_type": "markdown",
   "metadata": {},
   "source": [
    "### b) Obtener curva de proyección"
   ]
  },
  {
   "cell_type": "code",
   "execution_count": 8,
   "metadata": {
    "ExecuteTime": {
     "end_time": "2023-10-11T20:47:34.661820200Z",
     "start_time": "2023-10-11T20:47:34.647747800Z"
    }
   },
   "outputs": [
    {
     "data": {
      "text/html": [
       "<div>\n",
       "<style scoped>\n",
       "    .dataframe tbody tr th:only-of-type {\n",
       "        vertical-align: middle;\n",
       "    }\n",
       "\n",
       "    .dataframe tbody tr th {\n",
       "        vertical-align: top;\n",
       "    }\n",
       "\n",
       "    .dataframe thead th {\n",
       "        text-align: right;\n",
       "    }\n",
       "</style>\n",
       "<table border=\"1\" class=\"dataframe\">\n",
       "  <thead>\n",
       "    <tr style=\"text-align: right;\">\n",
       "      <th></th>\n",
       "      <th>Tenor</th>\n",
       "      <th>Rates</th>\n",
       "    </tr>\n",
       "  </thead>\n",
       "  <tbody>\n",
       "    <tr>\n",
       "      <th>0</th>\n",
       "      <td>1.0</td>\n",
       "      <td>0.102367</td>\n",
       "    </tr>\n",
       "    <tr>\n",
       "      <th>1</th>\n",
       "      <td>2.0</td>\n",
       "      <td>0.102393</td>\n",
       "    </tr>\n",
       "    <tr>\n",
       "      <th>2</th>\n",
       "      <td>96.0</td>\n",
       "      <td>0.112523</td>\n",
       "    </tr>\n",
       "    <tr>\n",
       "      <th>3</th>\n",
       "      <td>187.0</td>\n",
       "      <td>0.114707</td>\n",
       "    </tr>\n",
       "    <tr>\n",
       "      <th>4</th>\n",
       "      <td>275.0</td>\n",
       "      <td>0.115283</td>\n",
       "    </tr>\n",
       "    <tr>\n",
       "      <th>5</th>\n",
       "      <td>369.0</td>\n",
       "      <td>0.113394</td>\n",
       "    </tr>\n",
       "    <tr>\n",
       "      <th>6</th>\n",
       "      <td>551.0</td>\n",
       "      <td>0.106755</td>\n",
       "    </tr>\n",
       "    <tr>\n",
       "      <th>7</th>\n",
       "      <td>733.0</td>\n",
       "      <td>0.101230</td>\n",
       "    </tr>\n",
       "    <tr>\n",
       "      <th>8</th>\n",
       "      <td>1098.0</td>\n",
       "      <td>0.088235</td>\n",
       "    </tr>\n",
       "    <tr>\n",
       "      <th>9</th>\n",
       "      <td>1463.0</td>\n",
       "      <td>0.080234</td>\n",
       "    </tr>\n",
       "    <tr>\n",
       "      <th>10</th>\n",
       "      <td>1828.0</td>\n",
       "      <td>0.075787</td>\n",
       "    </tr>\n",
       "    <tr>\n",
       "      <th>11</th>\n",
       "      <td>2196.0</td>\n",
       "      <td>0.073229</td>\n",
       "    </tr>\n",
       "    <tr>\n",
       "      <th>12</th>\n",
       "      <td>2560.0</td>\n",
       "      <td>0.070940</td>\n",
       "    </tr>\n",
       "    <tr>\n",
       "      <th>13</th>\n",
       "      <td>2924.0</td>\n",
       "      <td>0.068950</td>\n",
       "    </tr>\n",
       "    <tr>\n",
       "      <th>14</th>\n",
       "      <td>3289.0</td>\n",
       "      <td>0.067660</td>\n",
       "    </tr>\n",
       "    <tr>\n",
       "      <th>15</th>\n",
       "      <td>3655.0</td>\n",
       "      <td>0.067222</td>\n",
       "    </tr>\n",
       "    <tr>\n",
       "      <th>16</th>\n",
       "      <td>4387.0</td>\n",
       "      <td>0.067559</td>\n",
       "    </tr>\n",
       "    <tr>\n",
       "      <th>17</th>\n",
       "      <td>5481.0</td>\n",
       "      <td>0.067897</td>\n",
       "    </tr>\n",
       "    <tr>\n",
       "      <th>18</th>\n",
       "      <td>7307.0</td>\n",
       "      <td>0.068521</td>\n",
       "    </tr>\n",
       "    <tr>\n",
       "      <th>19</th>\n",
       "      <td>10960.0</td>\n",
       "      <td>0.071195</td>\n",
       "    </tr>\n",
       "  </tbody>\n",
       "</table>\n",
       "</div>"
      ],
      "text/plain": [
       "      Tenor     Rates\n",
       "0       1.0  0.102367\n",
       "1       2.0  0.102393\n",
       "2      96.0  0.112523\n",
       "3     187.0  0.114707\n",
       "4     275.0  0.115283\n",
       "5     369.0  0.113394\n",
       "6     551.0  0.106755\n",
       "7     733.0  0.101230\n",
       "8    1098.0  0.088235\n",
       "9    1463.0  0.080234\n",
       "10   1828.0  0.075787\n",
       "11   2196.0  0.073229\n",
       "12   2560.0  0.070940\n",
       "13   2924.0  0.068950\n",
       "14   3289.0  0.067660\n",
       "15   3655.0  0.067222\n",
       "16   4387.0  0.067559\n",
       "17   5481.0  0.067897\n",
       "18   7307.0  0.068521\n",
       "19  10960.0  0.071195"
      ]
     },
     "metadata": {},
     "output_type": "display_data"
    }
   ],
   "source": [
    "idx = FinancialIndex.ICP\n",
    "\n",
    "curve = dataset.get_projection_curve(associated_index=idx)\n",
    "display(curve.rates_to_dataframe())"
   ]
  },
  {
   "cell_type": "markdown",
   "metadata": {},
   "source": [
    "### a) Obtención de índice a una fecha específica"
   ]
  },
  {
   "cell_type": "code",
   "execution_count": 9,
   "metadata": {
    "ExecuteTime": {
     "end_time": "2023-10-11T20:47:34.669118500Z",
     "start_time": "2023-10-11T20:47:34.661820200Z"
    }
   },
   "outputs": [
    {
     "name": "stdout",
     "output_type": "stream",
     "text": [
      "20089.53\n"
     ]
    }
   ],
   "source": [
    "idx = FinancialIndex.ICP\n",
    "idx_date = date(year=2022, month=8, day=19)\n",
    "\n",
    "idx_value = dataset.get_index_data(index=idx, idx_date=idx_date)\n",
    "print(idx_value)"
   ]
  },
  {
   "cell_type": "markdown",
   "metadata": {},
   "source": [
    "### b) Obtención de data histórica de indice"
   ]
  },
  {
   "cell_type": "code",
   "execution_count": 10,
   "metadata": {
    "ExecuteTime": {
     "end_time": "2023-10-11T20:47:34.679103700Z",
     "start_time": "2023-10-11T20:47:34.669118500Z"
    }
   },
   "outputs": [
    {
     "data": {
      "text/plain": [
       "{datetime.date(2022, 8, 1): 19991.85,\n",
       " datetime.date(2022, 8, 2): 19997.26,\n",
       " datetime.date(2022, 8, 3): 20002.68,\n",
       " datetime.date(2022, 8, 4): 20008.1,\n",
       " datetime.date(2022, 8, 5): 20013.52,\n",
       " datetime.date(2022, 8, 8): 20029.78,\n",
       " datetime.date(2022, 8, 9): 20035.2,\n",
       " datetime.date(2022, 8, 10): 20040.63,\n",
       " datetime.date(2022, 8, 11): 20046.06,\n",
       " datetime.date(2022, 8, 12): 20051.49,\n",
       " datetime.date(2022, 8, 16): 20073.21,\n",
       " datetime.date(2022, 8, 17): 20078.65,\n",
       " datetime.date(2022, 8, 18): 20084.09,\n",
       " datetime.date(2022, 8, 19): 20089.53,\n",
       " datetime.date(2022, 8, 22): 20105.85,\n",
       " datetime.date(2022, 8, 23): 20111.3}"
      ]
     },
     "metadata": {},
     "output_type": "display_data"
    }
   ],
   "source": [
    "idx = FinancialIndex.ICP\n",
    "start_date = date(year=2022, month=8, day=1)\n",
    "end_date = date(year=2022, month=8, day=23)\n",
    "\n",
    "idx_value = dataset.get_index_data_between(index=idx, start_date=start_date, end_date=end_date)\n",
    "display(idx_value)"
   ]
  }
 ],
 "metadata": {
  "kernelspec": {
   "display_name": "Python 3",
   "language": "python",
   "name": "python3"
  },
  "language_info": {
   "codemirror_mode": {
    "name": "ipython",
    "version": 3
   },
   "file_extension": ".py",
   "mimetype": "text/x-python",
   "name": "python",
   "nbconvert_exporter": "python",
   "pygments_lexer": "ipython3",
   "version": "3.7.13"
  }
 },
 "nbformat": 4,
 "nbformat_minor": 1
}
