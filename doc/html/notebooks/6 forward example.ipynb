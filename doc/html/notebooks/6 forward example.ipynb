{
 "cells": [
  {
   "cell_type": "markdown",
   "metadata": {
    "collapsed": true
   },
   "source": [
    "# Construcción y valorización de producto Forward"
   ]
  },
  {
   "cell_type": "markdown",
   "metadata": {
    "collapsed": false
   },
   "source": [
    "## Carga de Librerías"
   ]
  },
  {
   "cell_type": "code",
   "execution_count": 1,
   "metadata": {
    "ExecuteTime": {
     "end_time": "2023-05-04T15:01:33.143196Z",
     "start_time": "2023-05-04T15:01:31.765741Z"
    },
    "collapsed": false
   },
   "outputs": [],
   "source": [
    "from finrisklib.instruments.forward import Forward\n",
    "from finrisklib.instruments.flow import Cash\n",
    "from finrisklib.enums import Currency\n",
    "from finrisklib.data.dbreader import DBReader\n",
    "from datetime import date\n"
   ]
  },
  {
   "cell_type": "markdown",
   "metadata": {
    "collapsed": false
   },
   "source": [
    "## Construcción"
   ]
  },
  {
   "cell_type": "code",
   "execution_count": 2,
   "metadata": {
    "ExecuteTime": {
     "end_time": "2023-05-04T15:01:33.149957Z",
     "start_time": "2023-05-04T15:01:33.149451Z"
    },
    "collapsed": false
   },
   "outputs": [],
   "source": [
    "# Nocionales (Operación 6812159)\n",
    "active_notional = Cash(amount=225000, currency=Currency.USD)\n",
    "passive_notional = Cash(amount=195558750, currency=Currency.CLP)\n",
    "\n",
    "# Fechas\n",
    "start_date = date(year=2022, month=6, day=14)\n",
    "end_date = date(year=2022, month=7, day=18)\n",
    "fixing_date = date(year=2022, month=7, day=18)\n",
    "pay_date = date(year=2022, month=7, day=18)\n",
    "\n",
    "# Construcción del instrumento\n",
    "\n",
    "op_6812159 = Forward(active_notional=active_notional, passive_notional=passive_notional,\n",
    "                  start_date=start_date, end_date=end_date, pay_date=pay_date, fixing_date=fixing_date, associated_collateral=Currency.USD)"
   ]
  },
  {
   "cell_type": "markdown",
   "metadata": {
    "collapsed": false
   },
   "source": [
    "## Valorización\n",
    "\n",
    "### a) Valorización con moneda default"
   ]
  },
  {
   "cell_type": "code",
   "execution_count": 3,
   "metadata": {
    "ExecuteTime": {
     "end_time": "2023-05-04T15:01:35.680148Z",
     "start_time": "2023-05-04T15:01:33.149957Z"
    },
    "collapsed": false
   },
   "outputs": [
    {
     "name": "stdout",
     "output_type": "stream",
     "text": [
      "28,536,787.95 CLP\n"
     ]
    }
   ],
   "source": [
    "# Fecha de valorización\n",
    "valuation_date = date(year=2022, month=7, day=11)\n",
    "\n",
    "# Inicializamos el lector de base de datos\n",
    "reader = DBReader()\n",
    "\n",
    "dataset = reader.get_dataset(process_date=valuation_date)\n",
    "\n",
    "val = op_6812159.valuate(dataset=dataset)\n",
    "\n",
    "print(val)"
   ]
  },
  {
   "cell_type": "markdown",
   "metadata": {
    "collapsed": false
   },
   "source": [
    "### b) Valorización con moneda especificada"
   ]
  },
  {
   "cell_type": "code",
   "execution_count": 4,
   "metadata": {
    "ExecuteTime": {
     "end_time": "2023-05-04T15:01:35.688521Z",
     "start_time": "2023-05-04T15:01:35.680148Z"
    },
    "collapsed": false
   },
   "outputs": [
    {
     "name": "stdout",
     "output_type": "stream",
     "text": [
      "28,688.56 USD\n"
     ]
    }
   ],
   "source": [
    "dataset.set_default_valuation_currency(valuation_currency=Currency.USD)\n",
    "\n",
    "val = op_6812159.valuate(dataset=dataset)\n",
    "print(val)\n",
    "\n",
    "dataset.set_default_valuation_currency(valuation_currency=Currency.CLP)"
   ]
  },
  {
   "cell_type": "markdown",
   "metadata": {
    "collapsed": false
   },
   "source": [
    "## Obtención desde base de datos\n",
    "\n",
    "### a) Obtención de datos"
   ]
  },
  {
   "cell_type": "code",
   "execution_count": 10,
   "metadata": {
    "ExecuteTime": {
     "end_time": "2023-05-04T15:02:50.145084Z",
     "start_time": "2023-05-04T15:02:49.410412Z"
    },
    "collapsed": false
   },
   "outputs": [
    {
     "name": "stdout",
     "output_type": "stream",
     "text": [
      "28,533,606.60 CLP\n"
     ]
    }
   ],
   "source": [
    "id_number = 6812159\n",
    "\n",
    "db_op = reader.get_operation(id_number=id_number, process_date=valuation_date)\n",
    "val = db_op.valuate(dataset=dataset)\n",
    "\n",
    "print(val)"
   ]
  },
  {
   "cell_type": "markdown",
   "metadata": {
    "collapsed": false
   },
   "source": [
    "### b) Obtención de MtM Oficial"
   ]
  },
  {
   "cell_type": "code",
   "execution_count": 11,
   "metadata": {
    "ExecuteTime": {
     "end_time": "2023-05-04T15:02:51.953186Z",
     "start_time": "2023-05-04T15:02:51.734089Z"
    },
    "collapsed": false
   },
   "outputs": [
    {
     "name": "stdout",
     "output_type": "stream",
     "text": [
      "28,541,754.30 CLP\n"
     ]
    }
   ],
   "source": [
    "mtm = reader.get_official_mtm(id_number=id_number, process_date=valuation_date)\n",
    "\n",
    "print(mtm)"
   ]
  }
 ],
 "metadata": {
  "kernelspec": {
   "display_name": "Python 3 (ipykernel)",
   "language": "python",
   "name": "python3"
  },
  "language_info": {
   "codemirror_mode": {
    "name": "ipython",
    "version": 2
   },
   "file_extension": ".py",
   "mimetype": "text/x-python",
   "name": "python",
   "nbconvert_exporter": "python",
   "pygments_lexer": "ipython2",
   "version": "2.7.6"
  }
 },
 "nbformat": 4,
 "nbformat_minor": 0
}
