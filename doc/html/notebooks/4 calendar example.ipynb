{
 "cells": [
  {
   "cell_type": "markdown",
   "metadata": {
    "collapsed": true
   },
   "source": [
    "# Uso de calendario\n",
    "\n",
    "La clase calendario permite la manipulación de fechas y la obtención de distancia entre las mismas, la clase se encuentra basada en los calendarios default de la libería pandas\n",
    "\n",
    "## Carga de librerías"
   ]
  },
  {
   "cell_type": "code",
   "execution_count": 1,
   "metadata": {
    "ExecuteTime": {
     "end_time": "2023-10-11T20:44:08.318847300Z",
     "start_time": "2023-10-11T20:44:07.468836800Z"
    }
   },
   "outputs": [],
   "source": [
    "from finrisklib.market.tradingcalendar import TradingCalendar # Clase base de calendario\n",
    "from finrisklib.enums import Locality\n",
    "from finrisklib.enums import BusinessDay\n",
    "from finrisklib.enums import Period\n",
    "from finrisklib.enums import DayCount\n",
    "from finrisklib.data.dbreader import DBReader\n",
    "from datetime import date\n",
    "from pandas.tseries.holiday import AbstractHolidayCalendar, Holiday, GoodFriday, nearest_workday # Calendario Pandas"
   ]
  },
  {
   "cell_type": "markdown",
   "metadata": {},
   "source": [
    "## Creación de un calendario personalizado"
   ]
  },
  {
   "cell_type": "code",
   "execution_count": 2,
   "metadata": {
    "ExecuteTime": {
     "end_time": "2023-10-11T20:44:08.378566600Z",
     "start_time": "2023-10-11T20:44:08.323859300Z"
    }
   },
   "outputs": [],
   "source": [
    "locations = [Locality.CHL, Locality.COL, Locality.USA]\n",
    "\n",
    "rules = [GoodFriday,\n",
    "         Holiday('NewYearsDay', month=1, day=1, observance=nearest_workday),\n",
    "         Holiday('Christmas', month=12, day=25, observance=nearest_workday)]\n",
    "\n",
    "holidays = [date(year=2022, month=9, day=16)]\n",
    "\n",
    "base_calendar = AbstractHolidayCalendar(name='STG-BGT-NY', rules=rules)\n",
    "custom_calendar = TradingCalendar(calendar_name='STG-BGT-NY', holidays=holidays, base_calendar=base_calendar)"
   ]
  },
  {
   "cell_type": "markdown",
   "metadata": {},
   "source": [
    "### a) Ajustar fecha laborable"
   ]
  },
  {
   "cell_type": "code",
   "execution_count": 3,
   "metadata": {
    "ExecuteTime": {
     "end_time": "2023-10-11T20:44:08.387585900Z",
     "start_time": "2023-10-11T20:44:08.378566600Z"
    }
   },
   "outputs": [
    {
     "name": "stdout",
     "output_type": "stream",
     "text": [
      "2022-09-19\n"
     ]
    }
   ],
   "source": [
    "date1 = date(year=2022, month=9, day=16)\n",
    "\n",
    "adjusted_date = custom_calendar.adjust_workday(workday=date1, business_day_convention=BusinessDay.MODIFIED_FOLLOWING)\n",
    "print(adjusted_date)\n"
   ]
  },
  {
   "cell_type": "markdown",
   "metadata": {},
   "source": [
    "## Utilizar Calendarios Default"
   ]
  },
  {
   "cell_type": "code",
   "execution_count": 4,
   "metadata": {
    "ExecuteTime": {
     "end_time": "2023-10-11T20:44:08.835194Z",
     "start_time": "2023-10-11T20:44:08.387585900Z"
    }
   },
   "outputs": [],
   "source": [
    "reader = DBReader()\n",
    "calendar_dataset = reader.get_calendar_dataset()\n",
    "\n",
    "nyse_calendar = calendar_dataset.get_calendar([Locality.USA])\n",
    "stg_calendar = calendar_dataset.get_calendar([Locality.CHL])"
   ]
  },
  {
   "cell_type": "code",
   "execution_count": 5,
   "metadata": {
    "ExecuteTime": {
     "end_time": "2023-10-11T20:44:08.846418700Z",
     "start_time": "2023-10-11T20:44:08.835194Z"
    }
   },
   "outputs": [
    {
     "name": "stdout",
     "output_type": "stream",
     "text": [
      "2022-08-15\n"
     ]
    }
   ],
   "source": [
    "asuncion_virgen = date(year=2022, month=8, day=15)\n",
    "\n",
    "adjusted_date = nyse_calendar.adjust_workday(workday=asuncion_virgen, business_day_convention=BusinessDay.MODIFIED_FOLLOWING)\n",
    "print(adjusted_date)"
   ]
  },
  {
   "cell_type": "code",
   "execution_count": 6,
   "metadata": {
    "ExecuteTime": {
     "end_time": "2023-10-11T20:44:08.853840900Z",
     "start_time": "2023-10-11T20:44:08.841063900Z"
    }
   },
   "outputs": [
    {
     "name": "stdout",
     "output_type": "stream",
     "text": [
      "2022-08-16\n"
     ]
    }
   ],
   "source": [
    "asuncion_virgen = date(year=2022, month=8, day=15)\n",
    "\n",
    "adjusted_date = stg_calendar.adjust_workday(workday=asuncion_virgen, business_day_convention=BusinessDay.MODIFIED_FOLLOWING)\n",
    "print(adjusted_date)"
   ]
  },
  {
   "cell_type": "markdown",
   "metadata": {},
   "source": [
    "## Funcionalidades Estáticas"
   ]
  },
  {
   "cell_type": "markdown",
   "metadata": {},
   "source": [
    "### a) Offset de fechas"
   ]
  },
  {
   "cell_type": "code",
   "execution_count": 7,
   "metadata": {
    "ExecuteTime": {
     "end_time": "2023-10-11T20:44:08.864511800Z",
     "start_time": "2023-10-11T20:44:08.853840900Z"
    }
   },
   "outputs": [
    {
     "name": "stdout",
     "output_type": "stream",
     "text": [
      "Start Date: 2022-08-23 - End Date 2023-02-23\n"
     ]
    }
   ],
   "source": [
    "start_date = date(year=2022, month=8, day=23)\n",
    "n_periods = 6\n",
    "period = Period.MONTH\n",
    "end_date = nyse_calendar.offset_date(start_date=start_date, n_periods=n_periods, period=period,\n",
    "                                     convention=BusinessDay.MODIFIED_FOLLOWING)\n",
    "\n",
    "print(f'Start Date: {start_date} - End Date {end_date}')"
   ]
  },
  {
   "cell_type": "markdown",
   "metadata": {},
   "source": [
    "### b) Obtener fracción de año"
   ]
  },
  {
   "cell_type": "code",
   "execution_count": 8,
   "metadata": {
    "ExecuteTime": {
     "end_time": "2023-10-11T20:44:08.940138Z",
     "start_time": "2023-10-11T20:44:08.864511800Z"
    }
   },
   "outputs": [
    {
     "name": "stdout",
     "output_type": "stream",
     "text": [
      "year fraction: 0.5111111111111111\n"
     ]
    }
   ],
   "source": [
    "yf = TradingCalendar.get_year_fraction(start_date=start_date, end_date=end_date, day_count=DayCount.DC_ACT_360)\n",
    "print(f'year fraction: {yf}')"
   ]
  }
 ],
 "metadata": {
  "kernelspec": {
   "display_name": "Python 3",
   "language": "python",
   "name": "python3"
  },
  "language_info": {
   "codemirror_mode": {
    "name": "ipython",
    "version": 3
   },
   "file_extension": ".py",
   "mimetype": "text/x-python",
   "name": "python",
   "nbconvert_exporter": "python",
   "pygments_lexer": "ipython3",
   "version": "3.7.13"
  }
 },
 "nbformat": 4,
 "nbformat_minor": 1
}
