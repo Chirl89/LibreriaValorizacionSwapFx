{
 "cells": [
  {
   "cell_type": "markdown",
   "metadata": {
    "collapsed": true
   },
   "source": [
    "# Construcción y valorización de Swaps\n",
    "\n",
    "## Carga de librerías"
   ]
  },
  {
   "cell_type": "code",
   "execution_count": 1,
   "metadata": {
    "ExecuteTime": {
     "end_time": "2023-10-11T20:49:40.668622100Z",
     "start_time": "2023-10-11T20:49:39.936003500Z"
    }
   },
   "outputs": [],
   "source": [
    "from finrisklib.enums import Currency\n",
    "from finrisklib.data.dbreader import DBReader\n",
    "from datetime import date\n"
   ]
  },
  {
   "cell_type": "markdown",
   "metadata": {},
   "source": [
    "## Obtención desde base de datos"
   ]
  },
  {
   "cell_type": "markdown",
   "metadata": {},
   "source": [
    "### a) Obtención de Instrumento"
   ]
  },
  {
   "cell_type": "code",
   "execution_count": 2,
   "metadata": {
    "ExecuteTime": {
     "end_time": "2023-10-11T20:49:41.299590100Z",
     "start_time": "2023-10-11T20:49:40.668622100Z"
    }
   },
   "outputs": [],
   "source": [
    "# Fecha de valorización\n",
    "valuation_date = date(year=2022, month=8, day=23)\n",
    "\n",
    "# Inicializamos el lector de base de datos\n",
    "reader = DBReader()\n",
    "\n",
    "id_number = 1001268\n",
    "op = reader.get_operation(id_number=id_number, process_date=valuation_date)"
   ]
  },
  {
   "cell_type": "markdown",
   "metadata": {},
   "source": [
    "## Valorización"
   ]
  },
  {
   "cell_type": "markdown",
   "metadata": {},
   "source": [
    "### a) Valorización independiente"
   ]
  },
  {
   "cell_type": "code",
   "execution_count": 3,
   "metadata": {
    "ExecuteTime": {
     "end_time": "2023-10-11T20:49:44.788053800Z",
     "start_time": "2023-10-11T20:49:41.299590100Z"
    }
   },
   "outputs": [
    {
     "name": "stdout",
     "output_type": "stream",
     "text": [
      "-453,219,506.79 CLP\n"
     ]
    }
   ],
   "source": [
    "dataset = reader.get_dataset(process_date=valuation_date)\n",
    "\n",
    "val = op.valuate(dataset=dataset)\n",
    "\n",
    "print(val)"
   ]
  },
  {
   "cell_type": "code",
   "execution_count": 4,
   "metadata": {
    "ExecuteTime": {
     "end_time": "2023-10-11T20:49:47.526257700Z",
     "start_time": "2023-10-11T20:49:44.788053800Z"
    }
   },
   "outputs": [],
   "source": [
    "# Fecha de valorización\n",
    "valuation_date2 = date(year=2022, month=8, day=24)\n",
    "dataset2 = reader.get_dataset(process_date=valuation_date2)"
   ]
  },
  {
   "cell_type": "code",
   "execution_count": 5,
   "metadata": {
    "ExecuteTime": {
     "end_time": "2023-10-11T20:49:47.533930600Z",
     "start_time": "2023-10-11T20:49:47.526257700Z"
    }
   },
   "outputs": [
    {
     "name": "stdout",
     "output_type": "stream",
     "text": [
      "-495,699.55 USD\n"
     ]
    }
   ],
   "source": [
    "dataset2.set_default_valuation_currency(Currency.USD)\n",
    "\n",
    "val2 = op.valuate(dataset=dataset2)\n",
    "\n",
    "print(val2)"
   ]
  },
  {
   "cell_type": "markdown",
   "metadata": {},
   "source": [
    "### b) Valorización de sistema"
   ]
  },
  {
   "cell_type": "code",
   "execution_count": 6,
   "metadata": {
    "ExecuteTime": {
     "end_time": "2023-10-11T20:49:47.749159Z",
     "start_time": "2023-10-11T20:49:47.533930600Z"
    }
   },
   "outputs": [
    {
     "name": "stdout",
     "output_type": "stream",
     "text": [
      "-461,698,346.00 CLP\n"
     ]
    }
   ],
   "source": [
    "sys_val = reader.get_official_mtm(id_number=id_number, process_date=valuation_date)\n",
    "print(sys_val)"
   ]
  },
  {
   "cell_type": "code",
   "execution_count": 7,
   "metadata": {
    "ExecuteTime": {
     "end_time": "2023-10-11T20:49:47.749159Z",
     "start_time": "2023-10-11T20:49:47.749159Z"
    }
   },
   "outputs": [
    {
     "name": "stdout",
     "output_type": "stream",
     "text": [
      "-8,478,839.21 CLP\n"
     ]
    }
   ],
   "source": [
    "dif = sys_val-val\n",
    "print(dif)"
   ]
  }
 ],
 "metadata": {
  "kernelspec": {
   "display_name": "Python 3",
   "language": "python",
   "name": "python3"
  },
  "language_info": {
   "codemirror_mode": {
    "name": "ipython",
    "version": 3
   },
   "file_extension": ".py",
   "mimetype": "text/x-python",
   "name": "python",
   "nbconvert_exporter": "python",
   "pygments_lexer": "ipython3",
   "version": "3.7.13"
  }
 },
 "nbformat": 4,
 "nbformat_minor": 1
}
